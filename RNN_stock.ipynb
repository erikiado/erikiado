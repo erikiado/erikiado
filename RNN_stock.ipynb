{
 "cells": [
  {
   "cell_type": "code",
   "execution_count": 1,
   "metadata": {
    "collapsed": true
   },
   "outputs": [],
   "source": [
    "import numpy as np  \n",
    "import matplotlib.pyplot as plt \n",
    "import pandas as pd  \n",
    "import seaborn as sns\n",
    "import datetime\n",
    "import math\n",
    "%matplotlib inline"
   ]
  },
  {
   "cell_type": "code",
   "execution_count": 2,
   "metadata": {},
   "outputs": [
    {
     "data": {
      "text/html": [
       "<div>\n",
       "<table border=\"1\" class=\"dataframe\">\n",
       "  <thead>\n",
       "    <tr style=\"text-align: right;\">\n",
       "      <th></th>\n",
       "      <th>time</th>\n",
       "      <th>price</th>\n",
       "      <th>amount</th>\n",
       "    </tr>\n",
       "  </thead>\n",
       "  <tbody>\n",
       "    <tr>\n",
       "      <th>0</th>\n",
       "      <td>1313331280</td>\n",
       "      <td>10.4</td>\n",
       "      <td>0.779</td>\n",
       "    </tr>\n",
       "    <tr>\n",
       "      <th>1</th>\n",
       "      <td>1313334917</td>\n",
       "      <td>10.4</td>\n",
       "      <td>0.101</td>\n",
       "    </tr>\n",
       "    <tr>\n",
       "      <th>2</th>\n",
       "      <td>1313334917</td>\n",
       "      <td>10.4</td>\n",
       "      <td>0.316</td>\n",
       "    </tr>\n",
       "    <tr>\n",
       "      <th>3</th>\n",
       "      <td>1313340309</td>\n",
       "      <td>10.5</td>\n",
       "      <td>1.800</td>\n",
       "    </tr>\n",
       "    <tr>\n",
       "      <th>4</th>\n",
       "      <td>1313340309</td>\n",
       "      <td>10.5</td>\n",
       "      <td>0.150</td>\n",
       "    </tr>\n",
       "  </tbody>\n",
       "</table>\n",
       "</div>"
      ],
      "text/plain": [
       "         time  price  amount\n",
       "0  1313331280   10.4   0.779\n",
       "1  1313334917   10.4   0.101\n",
       "2  1313334917   10.4   0.316\n",
       "3  1313340309   10.5   1.800\n",
       "4  1313340309   10.5   0.150"
      ]
     },
     "execution_count": 2,
     "metadata": {},
     "output_type": "execute_result"
    }
   ],
   "source": [
    "# with open('./data/btceUSD.csv')\n",
    "data = pd.read_csv('./data/btceUSD.csv',names=['time','price','amount'])\n",
    "data.head()"
   ]
  },
  {
   "cell_type": "code",
   "execution_count": 5,
   "metadata": {},
   "outputs": [
    {
     "data": {
      "text/html": [
       "<div>\n",
       "<table border=\"1\" class=\"dataframe\">\n",
       "  <thead>\n",
       "    <tr style=\"text-align: right;\">\n",
       "      <th></th>\n",
       "      <th>time</th>\n",
       "      <th>price</th>\n",
       "      <th>amount</th>\n",
       "    </tr>\n",
       "  </thead>\n",
       "  <tbody>\n",
       "    <tr>\n",
       "      <th>29840197</th>\n",
       "      <td>1493298623</td>\n",
       "      <td>1287.993</td>\n",
       "      <td>0.060000</td>\n",
       "    </tr>\n",
       "    <tr>\n",
       "      <th>29840198</th>\n",
       "      <td>1493298623</td>\n",
       "      <td>1287.994</td>\n",
       "      <td>0.501309</td>\n",
       "    </tr>\n",
       "    <tr>\n",
       "      <th>29840199</th>\n",
       "      <td>1493298627</td>\n",
       "      <td>1287.994</td>\n",
       "      <td>0.496647</td>\n",
       "    </tr>\n",
       "    <tr>\n",
       "      <th>29840200</th>\n",
       "      <td>1493298633</td>\n",
       "      <td>1286.594</td>\n",
       "      <td>0.170893</td>\n",
       "    </tr>\n",
       "    <tr>\n",
       "      <th>29840201</th>\n",
       "      <td>1493298634</td>\n",
       "      <td>1286.594</td>\n",
       "      <td>0.179107</td>\n",
       "    </tr>\n",
       "  </tbody>\n",
       "</table>\n",
       "</div>"
      ],
      "text/plain": [
       "                time     price    amount\n",
       "29840197  1493298623  1287.993  0.060000\n",
       "29840198  1493298623  1287.994  0.501309\n",
       "29840199  1493298627  1287.994  0.496647\n",
       "29840200  1493298633  1286.594  0.170893\n",
       "29840201  1493298634  1286.594  0.179107"
      ]
     },
     "execution_count": 5,
     "metadata": {},
     "output_type": "execute_result"
    }
   ],
   "source": [
    "data.tail()"
   ]
  },
  {
   "cell_type": "code",
   "execution_count": 7,
   "metadata": {},
   "outputs": [
    {
     "data": {
      "text/plain": [
       "<matplotlib.axes._subplots.AxesSubplot at 0x7f8d844dab00>"
      ]
     },
     "execution_count": 7,
     "metadata": {},
     "output_type": "execute_result"
    },
    {
     "data": {
      "image/png": "[encoded data removed]",
      "text/plain": [
       "<matplotlib.figure.Figure at 0x7f8db84f5518>"
      ]
     },
     "metadata": {},
     "output_type": "display_data"
    }
   ],
   "source": [
    "data[[1]].plot()"
   ]
  },
  {
   "cell_type": "code",
   "execution_count": 8,
   "metadata": {},
   "outputs": [
    {
     "data": {
      "text/plain": [
       "(29840201, 3)"
      ]
     },
     "execution_count": 8,
     "metadata": {},
     "output_type": "execute_result"
    }
   ],
   "source": [
    "data.shape\n",
    "#29840201 instantes de tiempo con 2 tipos de info: valor(grafica arriba) y otra cosa"
   ]
  },
  {
   "cell_type": "code",
   "execution_count": 14,
   "metadata": {
    "collapsed": true
   },
   "outputs": [],
   "source": [
    "import json\n",
    "\n",
    "with open('data/btc.json') as json_data:\n",
    "    data_json = json.load(json_data)\n",
    "data_json = data_json['dataset']\n",
    "day_data = data_json['data']\n",
    "col_names = data_json['column_names']"
   ]
  },
  {
   "cell_type": "code",
   "execution_count": 16,
   "metadata": {},
   "outputs": [
    {
     "name": "stdout",
     "output_type": "stream",
     "text": [
      "(1435, 9)\n"
     ]
    },
    {
     "data": {
      "text/html": [
       "<div>\n",
       "<table border=\"1\" class=\"dataframe\">\n",
       "  <thead>\n",
       "    <tr style=\"text-align: right;\">\n",
       "      <th></th>\n",
       "      <th>Date</th>\n",
       "      <th>High</th>\n",
       "      <th>Low</th>\n",
       "      <th>Average</th>\n",
       "      <th>Last</th>\n",
       "      <th>Buy</th>\n",
       "      <th>Sell</th>\n",
       "      <th>Volume</th>\n",
       "      <th>Volume (Currency)</th>\n",
       "    </tr>\n",
       "  </thead>\n",
       "  <tbody>\n",
       "    <tr>\n",
       "      <th>0</th>\n",
       "      <td>2017-04-28</td>\n",
       "      <td>1309.800</td>\n",
       "      <td>1272.001</td>\n",
       "      <td>1290.9005</td>\n",
       "      <td>1286.990</td>\n",
       "      <td>1286.990</td>\n",
       "      <td>1283.212</td>\n",
       "      <td>7.185310e+06</td>\n",
       "      <td>5556.85617</td>\n",
       "    </tr>\n",
       "    <tr>\n",
       "      <th>1</th>\n",
       "      <td>2017-04-27</td>\n",
       "      <td>1315.112</td>\n",
       "      <td>1269.961</td>\n",
       "      <td>1292.5365</td>\n",
       "      <td>1307.560</td>\n",
       "      <td>1307.560</td>\n",
       "      <td>1305.703</td>\n",
       "      <td>9.831839e+06</td>\n",
       "      <td>7618.30873</td>\n",
       "    </tr>\n",
       "    <tr>\n",
       "      <th>2</th>\n",
       "      <td>2017-04-26</td>\n",
       "      <td>1278.000</td>\n",
       "      <td>1241.234</td>\n",
       "      <td>1259.6170</td>\n",
       "      <td>1270.092</td>\n",
       "      <td>1272.999</td>\n",
       "      <td>1270.094</td>\n",
       "      <td>7.534506e+06</td>\n",
       "      <td>5964.86005</td>\n",
       "    </tr>\n",
       "    <tr>\n",
       "      <th>3</th>\n",
       "      <td>2017-04-25</td>\n",
       "      <td>1264.197</td>\n",
       "      <td>1239.116</td>\n",
       "      <td>1251.6565</td>\n",
       "      <td>1245.432</td>\n",
       "      <td>1249.474</td>\n",
       "      <td>1242.302</td>\n",
       "      <td>6.453938e+06</td>\n",
       "      <td>5151.37187</td>\n",
       "    </tr>\n",
       "    <tr>\n",
       "      <th>4</th>\n",
       "      <td>2017-04-24</td>\n",
       "      <td>1248.000</td>\n",
       "      <td>1225.000</td>\n",
       "      <td>1236.5000</td>\n",
       "      <td>1242.600</td>\n",
       "      <td>1242.600</td>\n",
       "      <td>1241.871</td>\n",
       "      <td>5.677019e+06</td>\n",
       "      <td>4581.44823</td>\n",
       "    </tr>\n",
       "  </tbody>\n",
       "</table>\n",
       "</div>"
      ],
      "text/plain": [
       "         Date      High       Low    Average      Last       Buy      Sell  \\\n",
       "0  2017-04-28  1309.800  1272.001  1290.9005  1286.990  1286.990  1283.212   \n",
       "1  2017-04-27  1315.112  1269.961  1292.5365  1307.560  1307.560  1305.703   \n",
       "2  2017-04-26  1278.000  1241.234  1259.6170  1270.092  1272.999  1270.094   \n",
       "3  2017-04-25  1264.197  1239.116  1251.6565  1245.432  1249.474  1242.302   \n",
       "4  2017-04-24  1248.000  1225.000  1236.5000  1242.600  1242.600  1241.871   \n",
       "\n",
       "         Volume  Volume (Currency)  \n",
       "0  7.185310e+06         5556.85617  \n",
       "1  9.831839e+06         7618.30873  \n",
       "2  7.534506e+06         5964.86005  \n",
       "3  6.453938e+06         5151.37187  \n",
       "4  5.677019e+06         4581.44823  "
      ]
     },
     "execution_count": 16,
     "metadata": {},
     "output_type": "execute_result"
    }
   ],
   "source": [
    "data_daily = pd.DataFrame(day_data, columns=col_names)\n",
    "print(data_daily.shape)\n",
    "data_daily.head()\n",
    "#info de 1435 dias, contando muchos null antes de febrero de 2014"
   ]
  },
  {
   "cell_type": "code",
   "execution_count": 17,
   "metadata": {},
   "outputs": [
    {
     "data": {
      "text/html": [
       "<div>\n",
       "<table border=\"1\" class=\"dataframe\">\n",
       "  <thead>\n",
       "    <tr style=\"text-align: right;\">\n",
       "      <th></th>\n",
       "      <th>Date</th>\n",
       "      <th>High</th>\n",
       "      <th>Low</th>\n",
       "      <th>Average</th>\n",
       "      <th>Last</th>\n",
       "      <th>Buy</th>\n",
       "      <th>Sell</th>\n",
       "      <th>Volume</th>\n",
       "      <th>Volume (Currency)</th>\n",
       "    </tr>\n",
       "  </thead>\n",
       "  <tbody>\n",
       "    <tr>\n",
       "      <th>1430</th>\n",
       "      <td>2013-05-03</td>\n",
       "      <td>108.00</td>\n",
       "      <td>79.740</td>\n",
       "      <td>NaN</td>\n",
       "      <td>NaN</td>\n",
       "      <td>NaN</td>\n",
       "      <td>NaN</td>\n",
       "      <td>28192.560</td>\n",
       "      <td>NaN</td>\n",
       "    </tr>\n",
       "    <tr>\n",
       "      <th>1431</th>\n",
       "      <td>2013-05-02</td>\n",
       "      <td>125.93</td>\n",
       "      <td>95.130</td>\n",
       "      <td>NaN</td>\n",
       "      <td>NaN</td>\n",
       "      <td>NaN</td>\n",
       "      <td>NaN</td>\n",
       "      <td>24845.180</td>\n",
       "      <td>NaN</td>\n",
       "    </tr>\n",
       "    <tr>\n",
       "      <th>1432</th>\n",
       "      <td>2013-05-01</td>\n",
       "      <td>133.86</td>\n",
       "      <td>98.011</td>\n",
       "      <td>NaN</td>\n",
       "      <td>NaN</td>\n",
       "      <td>NaN</td>\n",
       "      <td>NaN</td>\n",
       "      <td>16227.540</td>\n",
       "      <td>NaN</td>\n",
       "    </tr>\n",
       "    <tr>\n",
       "      <th>1433</th>\n",
       "      <td>2013-04-30</td>\n",
       "      <td>135.98</td>\n",
       "      <td>129.010</td>\n",
       "      <td>NaN</td>\n",
       "      <td>NaN</td>\n",
       "      <td>NaN</td>\n",
       "      <td>NaN</td>\n",
       "      <td>8699.522</td>\n",
       "      <td>NaN</td>\n",
       "    </tr>\n",
       "    <tr>\n",
       "      <th>1434</th>\n",
       "      <td>2013-04-29</td>\n",
       "      <td>135.20</td>\n",
       "      <td>130.100</td>\n",
       "      <td>NaN</td>\n",
       "      <td>NaN</td>\n",
       "      <td>NaN</td>\n",
       "      <td>NaN</td>\n",
       "      <td>4372.696</td>\n",
       "      <td>NaN</td>\n",
       "    </tr>\n",
       "  </tbody>\n",
       "</table>\n",
       "</div>"
      ],
      "text/plain": [
       "            Date    High      Low  Average  Last  Buy  Sell     Volume  \\\n",
       "1430  2013-05-03  108.00   79.740      NaN   NaN  NaN   NaN  28192.560   \n",
       "1431  2013-05-02  125.93   95.130      NaN   NaN  NaN   NaN  24845.180   \n",
       "1432  2013-05-01  133.86   98.011      NaN   NaN  NaN   NaN  16227.540   \n",
       "1433  2013-04-30  135.98  129.010      NaN   NaN  NaN   NaN   8699.522   \n",
       "1434  2013-04-29  135.20  130.100      NaN   NaN  NaN   NaN   4372.696   \n",
       "\n",
       "      Volume (Currency)  \n",
       "1430                NaN  \n",
       "1431                NaN  \n",
       "1432                NaN  \n",
       "1433                NaN  \n",
       "1434                NaN  "
      ]
     },
     "execution_count": 17,
     "metadata": {},
     "output_type": "execute_result"
    }
   ],
   "source": [
    "data_daily.tail()"
   ]
  },
  {
   "cell_type": "code",
   "execution_count": null,
   "metadata": {
    "collapsed": true
   },
   "outputs": [],
   "source": [
    "#cleaning daily data\n",
    "data_daily.drop(['Last','Buy','Sell'])"
   ]
  },
  {
   "cell_type": "code",
   "execution_count": 23,
   "metadata": {},
   "outputs": [
    {
     "data": {
      "text/plain": [
       "1484236863"
      ]
     },
     "execution_count": 23,
     "metadata": {},
     "output_type": "execute_result"
    }
   ],
   "source": [
    "data[[0]].iloc[0][0]"
   ]
  },
  {
   "cell_type": "code",
   "execution_count": 62,
   "metadata": {
    "collapsed": true
   },
   "outputs": [],
   "source": [
    "def to_date_string(timestamp):\n",
    "    return datetime.datetime.fromtimestamp(\n",
    "        int(timestamp)\n",
    "    ).strftime('%Y-%m-%d %H:%M:%S')\n",
    "\n",
    "def to_date(timestamp):\n",
    "    return datetime.datetime.fromtimestamp(int(timestamp))\n",
    "\n",
    "def time_diff(t1,t2):\n",
    "    a, b = to_date(t1), to_date(t2)\n",
    "    return (b-a).total_seconds()"
   ]
  },
  {
   "cell_type": "code",
   "execution_count": 13,
   "metadata": {},
   "outputs": [
    {
     "name": "stdout",
     "output_type": "stream",
     "text": [
      "2011-08-14 09:14:40\n",
      "2017-04-27 08:10:33\n",
      "179967353.0 seconds\n",
      "2999455.8833333333 minutes\n",
      "2082.955474537037 days\n",
      "297.5650677910053 weeks\n",
      "5.706727327498731 years\n"
     ]
    }
   ],
   "source": [
    "a = data[[0]].iloc[0][0]\n",
    "b = data[[0]].iloc[29840200][0]\n",
    "print(to_date_string(a))\n",
    "print(to_date_string(b))\n",
    "t = time_diff(a,b)\n",
    "print(t,'seconds')\n",
    "print(t/60,'minutes')\n",
    "print((t/60)/60/24,'days')\n",
    "print((t/60)/60/24/7,'weeks')\n",
    "print((t/60)/60/24/365,'years')"
   ]
  },
  {
   "cell_type": "code",
   "execution_count": 49,
   "metadata": {},
   "outputs": [
    {
     "name": "stdout",
     "output_type": "stream",
     "text": [
      "[<class 'pandas.core.series.Series'>]\n",
      "[<class 'pandas.core.series.Series'>, <class 'pandas.core.series.Series'>]\n",
      "[<class 'pandas.core.series.Series'>, <class 'pandas.core.series.Series'>, <class 'pandas.core.series.Series'>, <class 'pandas.core.series.Series'>, <class 'pandas.core.series.Series'>, <class 'pandas.core.series.Series'>, <class 'pandas.core.series.Series'>, <class 'pandas.core.series.Series'>, <class 'pandas.core.series.Series'>, <class 'pandas.core.series.Series'>, <class 'pandas.core.series.Series'>]\n",
      "[<class 'pandas.core.series.Series'>]\n",
      "[<class 'pandas.core.series.Series'>, <class 'pandas.core.series.Series'>, <class 'pandas.core.series.Series'>, <class 'pandas.core.series.Series'>, <class 'pandas.core.series.Series'>]\n",
      "[<class 'pandas.core.series.Series'>, <class 'pandas.core.series.Series'>]\n",
      "[<class 'pandas.core.series.Series'>, <class 'pandas.core.series.Series'>]\n",
      "[<class 'pandas.core.series.Series'>, <class 'pandas.core.series.Series'>, <class 'pandas.core.series.Series'>, <class 'pandas.core.series.Series'>, <class 'pandas.core.series.Series'>, <class 'pandas.core.series.Series'>, <class 'pandas.core.series.Series'>]\n",
      "[<class 'pandas.core.series.Series'>, <class 'pandas.core.series.Series'>, <class 'pandas.core.series.Series'>, <class 'pandas.core.series.Series'>, <class 'pandas.core.series.Series'>, <class 'pandas.core.series.Series'>, <class 'pandas.core.series.Series'>, <class 'pandas.core.series.Series'>]\n",
      "[<class 'pandas.core.series.Series'>]\n"
     ]
    }
   ],
   "source": [
    "last_t = data[[0]].iloc[0][0]\n",
    "d60 = []\n",
    "data_hour = pd.DataFrame()\n",
    "i = 0\n",
    "for index, row in data.iterrows():\n",
    "    x = time_diff(last_t, row['time']) / 60\n",
    "#     print(to_date_string(row['time']))\n",
    "#     print(x, row['amount'])\n",
    "    if x > 60:\n",
    "        i += 1\n",
    "        last_t = row['time']\n",
    "        print(d60)\n",
    "#         data_hour.append(pd.DataFrame(d60).mean())\n",
    "        d60 = []\n",
    "#         print()\n",
    "    if i == 10:\n",
    "        break\n",
    "    d60.append(type(row))\n"
   ]
  },
  {
   "cell_type": "code",
   "execution_count": 44,
   "metadata": {},
   "outputs": [
    {
     "data": {
      "text/html": [
       "<div>\n",
       "<table border=\"1\" class=\"dataframe\">\n",
       "  <thead>\n",
       "    <tr style=\"text-align: right;\">\n",
       "      <th></th>\n",
       "    </tr>\n",
       "  </thead>\n",
       "  <tbody>\n",
       "  </tbody>\n",
       "</table>\n",
       "</div>"
      ],
      "text/plain": [
       "Empty DataFrame\n",
       "Columns: []\n",
       "Index: []"
      ]
     },
     "execution_count": 44,
     "metadata": {},
     "output_type": "execute_result"
    }
   ],
   "source": [
    "# to_date_string(last_t)\n",
    "data_hour.head()"
   ]
  },
  {
   "cell_type": "code",
   "execution_count": 3,
   "metadata": {},
   "outputs": [
    {
     "name": "stderr",
     "output_type": "stream",
     "text": [
      "Using TensorFlow backend.\n"
     ]
    }
   ],
   "source": [
    "from keras.models import Sequential\n",
    "from keras.layers import Dense\n",
    "\n",
    "np.random.seed(5)"
   ]
  },
  {
   "cell_type": "code",
   "execution_count": 4,
   "metadata": {
    "collapsed": true
   },
   "outputs": [],
   "source": [
    "dataset = data.values\n",
    "dataset = dataset.astype('float32')"
   ]
  },
  {
   "cell_type": "code",
   "execution_count": 54,
   "metadata": {},
   "outputs": [
    {
     "data": {
      "text/plain": [
       "array([[  1.31333133e+09,   1.03999996e+01,   7.78999984e-01],\n",
       "       [  1.31333491e+09,   1.03999996e+01,   1.01000004e-01],\n",
       "       [  1.31333491e+09,   1.03999996e+01,   3.16000015e-01],\n",
       "       ..., \n",
       "       [  1.49329869e+09,   1.28799402e+03,   4.96646643e-01],\n",
       "       [  1.49329869e+09,   1.28659399e+03,   1.70892924e-01],\n",
       "       [  1.49329869e+09,   1.28659399e+03,   1.79107070e-01]], dtype=float32)"
      ]
     },
     "execution_count": 54,
     "metadata": {},
     "output_type": "execute_result"
    }
   ],
   "source": [
    "dataset"
   ]
  },
  {
   "cell_type": "code",
   "execution_count": 11,
   "metadata": {},
   "outputs": [
    {
     "name": "stdout",
     "output_type": "stream",
     "text": [
      "1492010 298402\n"
     ]
    }
   ],
   "source": [
    "train_size = int(len(dataset) * 0.05)\n",
    "test_size = len(dataset)\n",
    "# test_size = len(dataset) - train_size\n",
    "test_size = int(1.2 * train_size)\n",
    "# train, test = dataset[0:train_size,:], dataset[train_size:len(dataset),:]\n",
    "train, test = dataset[0:train_size,:], dataset[train_size:test_size,:]\n",
    "print(len(train), len(test))"
   ]
  },
  {
   "cell_type": "code",
   "execution_count": 7,
   "metadata": {
    "collapsed": true
   },
   "outputs": [],
   "source": [
    "def create_dataset(dataset, look_back=1):\n",
    "    dataX, dataY = [], []\n",
    "    for i in range(len(dataset)-look_back-1):\n",
    "        a = dataset[i:(i+look_back)]\n",
    "        past_back, volume = [x[1] for x in a ], sum([x[2] for x in a])\n",
    "#         a = dataset[i:(i+look_back), 1:3][0]\n",
    "        past_back.append(volume)\n",
    "        dataX.append(past_back)\n",
    "        dataY.append(dataset[i + look_back, 1])\n",
    "    return np.array(dataX), np.array(dataY)"
   ]
  },
  {
   "cell_type": "code",
   "execution_count": 12,
   "metadata": {
    "collapsed": true
   },
   "outputs": [],
   "source": [
    "look_back = 3\n",
    "trainX, trainY = create_dataset(train, look_back)\n",
    "testX, testY = create_dataset(test, look_back)"
   ]
  },
  {
   "cell_type": "code",
   "execution_count": 94,
   "metadata": {},
   "outputs": [
    {
     "data": {
      "text/plain": [
       "array([[ 10.39999962,  10.39999962,  10.39999962,  10.5       ,\n",
       "         10.5       ,   3.14599996],\n",
       "       [ 10.39999962,  10.39999962,  10.5       ,  10.5       ,\n",
       "         10.5       ,   4.47699987],\n",
       "       [ 10.39999962,  10.5       ,  10.5       ,  10.5       ,\n",
       "         10.5       ,   9.26599973],\n",
       "       [ 10.5       ,  10.5       ,  10.5       ,  10.5       ,\n",
       "         10.5       ,   9.37999973],\n",
       "       [ 10.5       ,  10.5       ,  10.5       ,  10.5       ,\n",
       "         10.5       ,   8.61999974],\n",
       "       [ 10.5       ,  10.5       ,  10.5       ,  10.5       ,\n",
       "         10.5       ,  11.25837964],\n",
       "       [ 10.5       ,  10.5       ,  10.5       ,  10.5       ,\n",
       "         10.5       ,   9.64837974],\n",
       "       [ 10.5       ,  10.5       ,  10.5       ,  10.5       ,\n",
       "         11.        ,   5.98317987],\n",
       "       [ 10.5       ,  10.5       ,  10.5       ,  11.        ,\n",
       "         10.89999962,   6.13900685],\n",
       "       [ 10.5       ,  10.5       ,  11.        ,  10.89999962,\n",
       "         11.        ,   5.53700688],\n",
       "       [ 10.5       ,  11.        ,  10.89999962,  11.        ,\n",
       "         10.        ,   2.94862698],\n",
       "       [ 11.        ,  10.89999962,  11.        ,  10.        ,\n",
       "         11.        ,   2.60862698],\n",
       "       [ 10.89999962,  11.        ,  10.        ,  11.        ,\n",
       "         10.        ,   2.02727796],\n",
       "       [ 11.        ,  10.        ,  11.        ,  10.        ,\n",
       "         10.        ,   3.44145097],\n",
       "       [ 10.        ,  11.        ,  10.        ,  10.        ,\n",
       "         10.        ,   3.43845098],\n",
       "       [ 11.        ,  10.        ,  10.        ,  10.        ,\n",
       "         10.        ,   5.52201101],\n",
       "       [ 10.        ,  10.        ,  10.        ,  10.        ,\n",
       "         10.        ,  14.99995142],\n",
       "       [ 10.        ,  10.        ,  10.        ,  10.        ,\n",
       "         11.        ,  14.69650045],\n",
       "       [ 10.        ,  10.        ,  10.        ,  11.        ,\n",
       "         11.        ,  15.1465005 ],\n",
       "       [ 10.        ,  10.        ,  11.        ,  11.        ,\n",
       "         10.39999962,  14.9115005 ],\n",
       "       [ 10.        ,  11.        ,  11.        ,  10.39999962,\n",
       "         11.        ,  13.33734046],\n",
       "       [ 11.        ,  11.        ,  10.39999962,  11.        ,\n",
       "         11.        ,   4.73940001],\n",
       "       [ 11.        ,  10.39999962,  11.        ,  11.        ,\n",
       "         11.25      ,   4.58940001],\n",
       "       [ 10.39999962,  11.        ,  11.        ,  11.25      ,\n",
       "         11.25      ,   2.58499996],\n",
       "       [ 11.        ,  11.        ,  11.25      ,  11.25      ,\n",
       "         11.27000046,   2.98499998],\n",
       "       [ 11.        ,  11.25      ,  11.25      ,  11.27000046,\n",
       "         11.30000019,   2.70559999],\n",
       "       [ 11.25      ,  11.25      ,  11.27000046,  11.30000019,\n",
       "         10.75      ,   1.76560003],\n",
       "       [ 11.25      ,  11.27000046,  11.30000019,  10.75      ,\n",
       "         11.19999981,   2.00560004],\n",
       "       [ 11.27000046,  11.30000019,  10.75      ,  11.19999981,\n",
       "         11.39999962,   1.66000004],\n",
       "       [ 11.30000019,  10.75      ,  11.19999981,  11.39999962,\n",
       "         11.44999981,   2.31000002],\n",
       "       [ 10.75      ,  11.19999981,  11.39999962,  11.44999981,\n",
       "         11.47000027,   2.31000002],\n",
       "       [ 11.19999981,  11.39999962,  11.44999981,  11.47000027,\n",
       "         11.47999954,   3.44560001],\n",
       "       [ 11.39999962,  11.44999981,  11.47000027,  11.47999954,\n",
       "         11.5       ,   4.2706    ],\n",
       "       [ 11.44999981,  11.47000027,  11.47999954,  11.5       ,\n",
       "         11.89999962,   5.49999994],\n",
       "       [ 11.47000027,  11.47999954,  11.5       ,  11.89999962,\n",
       "         11.89999962,   4.54999995],\n",
       "       [ 11.47999954,  11.5       ,  11.89999962,  11.89999962,\n",
       "         11.19999981,   4.27999994],\n",
       "       [ 11.5       ,  11.89999962,  11.89999962,  11.19999981,\n",
       "         10.84000015,   4.04439995],\n",
       "       [ 11.89999962,  11.89999962,  11.19999981,  10.84000015,\n",
       "         10.81999969,   2.88939995],\n",
       "       [ 11.89999962,  11.19999981,  10.84000015,  10.81999969,\n",
       "         10.81999969,   1.66000001],\n",
       "       [ 11.19999981,  10.84000015,  10.81999969,  10.81999969,\n",
       "         11.39999962,   1.46      ],\n",
       "       [ 10.84000015,  10.81999969,  10.81999969,  11.39999962,\n",
       "         11.47000027,   1.73000001],\n",
       "       [ 10.81999969,  10.81999969,  11.39999962,  11.47000027,\n",
       "         11.47000027,   1.13000002],\n",
       "       [ 10.81999969,  11.39999962,  11.47000027,  11.47000027,\n",
       "         10.81999969,   1.13000002],\n",
       "       [ 11.39999962,  11.47000027,  11.47000027,  10.81999969,\n",
       "         11.35000038,   3.62999992],\n",
       "       [ 11.47000027,  11.47000027,  10.81999969,  11.35000038,\n",
       "         11.39999962,   3.87599991],\n",
       "       [ 11.47000027,  10.81999969,  11.35000038,  11.39999962,\n",
       "         11.        ,   4.62082986],\n",
       "       [ 10.81999969,  11.35000038,  11.39999962,  11.        ,\n",
       "         11.        ,   5.33482981],\n",
       "       [ 11.35000038,  11.39999962,  11.        ,  11.        ,\n",
       "         11.        ,   5.34599981],\n",
       "       [ 11.39999962,  11.        ,  11.        ,  11.        ,\n",
       "         11.        ,   2.74707991],\n",
       "       [ 11.        ,  11.        ,  11.        ,  11.        ,\n",
       "         11.        ,   3.04930994],\n",
       "       [ 11.        ,  11.        ,  11.        ,  11.        ,\n",
       "         10.97999954,   2.17447999],\n",
       "       [ 11.        ,  11.        ,  11.        ,  10.97999954,\n",
       "         10.82999992,   1.26048003],\n",
       "       [ 11.        ,  11.        ,  10.97999954,  10.82999992,\n",
       "         11.10000038,   1.34931003],\n",
       "       [ 11.        ,  10.97999954,  10.82999992,  11.10000038,\n",
       "         11.10000038,   1.44823004],\n",
       "       [ 10.97999954,  10.82999992,  11.10000038,  11.10000038,\n",
       "         10.82999992,   0.99000002],\n",
       "       [ 10.82999992,  11.10000038,  11.10000038,  10.82999992,\n",
       "         10.85000038,   0.89000001],\n",
       "       [ 11.10000038,  11.10000038,  10.82999992,  10.85000038,\n",
       "         10.85000038,   4.04890008],\n",
       "       [ 11.10000038,  10.82999992,  10.85000038,  10.85000038,\n",
       "         10.82999992,   3.86450007],\n",
       "       [ 10.82999992,  10.85000038,  10.85000038,  10.82999992,\n",
       "         10.81999969,   4.76450007],\n",
       "       [ 10.85000038,  10.85000038,  10.82999992,  10.81999969,\n",
       "         10.81999969,   6.9425001 ],\n",
       "       [ 10.85000038,  10.82999992,  10.81999969,  10.81999969,\n",
       "         10.75      ,   6.8425001 ],\n",
       "       [ 10.82999992,  10.81999969,  10.81999969,  10.75      ,\n",
       "         10.69999981,   3.85220004],\n",
       "       [ 10.81999969,  10.81999969,  10.75      ,  10.69999981,\n",
       "         10.69999981,   5.36660001],\n",
       "       [ 10.81999969,  10.75      ,  10.69999981,  10.69999981,\n",
       "         10.69999981,   4.36800001],\n",
       "       [ 10.75      ,  10.69999981,  10.69999981,  10.69999981,\n",
       "         10.89999962,   2.09999999],\n",
       "       [ 10.69999981,  10.69999981,  10.69999981,  10.89999962,\n",
       "         10.73999977,   2.39999999],\n",
       "       [ 10.69999981,  10.69999981,  10.89999962,  10.73999977,\n",
       "         10.72000027,   4.88899995],\n",
       "       [ 10.69999981,  10.89999962,  10.73999977,  10.72000027,\n",
       "         10.72000027,   6.21659995],\n",
       "       [ 10.89999962,  10.73999977,  10.72000027,  10.72000027,\n",
       "         11.        ,   7.21519995],\n",
       "       [ 10.73999977,  10.72000027,  10.72000027,  11.        ,\n",
       "         10.72000027,   8.49770001],\n",
       "       [ 10.72000027,  10.72000027,  11.        ,  10.72000027,\n",
       "         10.71000004,  13.0977    ],\n",
       "       [ 10.72000027,  11.        ,  10.72000027,  10.71000004,\n",
       "         10.69999981,  12.24010003],\n",
       "       [ 11.        ,  10.72000027,  10.71000004,  10.69999981,\n",
       "         10.51000023,  12.38250005],\n",
       "       [ 10.72000027,  10.71000004,  10.69999981,  10.51000023,\n",
       "         10.5       ,  13.69450009],\n",
       "       [ 10.71000004,  10.69999981,  10.51000023,  10.5       ,\n",
       "         10.25      ,  16.31200004],\n",
       "       [ 10.69999981,  10.51000023,  10.5       ,  10.25      ,\n",
       "         10.        ,  13.61750007],\n",
       "       [ 10.51000023,  10.5       ,  10.25      ,  10.        ,\n",
       "         10.        ,  13.9230001 ],\n",
       "       [ 10.5       ,  10.25      ,  10.        ,  10.        ,\n",
       "         10.30000019,  13.36300015],\n",
       "       [ 10.25      ,  10.        ,  10.        ,  10.30000019,\n",
       "         10.5       ,  11.15100012],\n",
       "       [ 10.        ,  10.        ,  10.30000019,  10.5       ,\n",
       "         10.5       ,   7.25100012],\n",
       "       [ 10.        ,  10.30000019,  10.5       ,  10.5       ,\n",
       "         10.30000019,   5.73550011],\n",
       "       [ 10.30000019,  10.5       ,  10.5       ,  10.30000019,\n",
       "         10.35000038,   3.72100009],\n",
       "       [ 10.5       ,  10.5       ,  10.30000019,  10.35000038,\n",
       "         10.35000038,   2.28100003]])"
      ]
     },
     "execution_count": 94,
     "metadata": {},
     "output_type": "execute_result"
    }
   ],
   "source": [
    "trainX"
   ]
  },
  {
   "cell_type": "code",
   "execution_count": 95,
   "metadata": {},
   "outputs": [
    {
     "data": {
      "text/plain": [
       "array([ 10.5       ,  10.5       ,  10.5       ,  10.5       ,\n",
       "        10.5       ,  10.5       ,  11.        ,  10.89999962,\n",
       "        11.        ,  10.        ,  11.        ,  10.        ,\n",
       "        10.        ,  10.        ,  10.        ,  10.        ,\n",
       "        11.        ,  11.        ,  10.39999962,  11.        ,\n",
       "        11.        ,  11.25      ,  11.25      ,  11.27000046,\n",
       "        11.30000019,  10.75      ,  11.19999981,  11.39999962,\n",
       "        11.44999981,  11.47000027,  11.47999954,  11.5       ,\n",
       "        11.89999962,  11.89999962,  11.19999981,  10.84000015,\n",
       "        10.81999969,  10.81999969,  11.39999962,  11.47000027,\n",
       "        11.47000027,  10.81999969,  11.35000038,  11.39999962,\n",
       "        11.        ,  11.        ,  11.        ,  11.        ,\n",
       "        11.        ,  10.97999954,  10.82999992,  11.10000038,\n",
       "        11.10000038,  10.82999992,  10.85000038,  10.85000038,\n",
       "        10.82999992,  10.81999969,  10.81999969,  10.75      ,\n",
       "        10.69999981,  10.69999981,  10.69999981,  10.89999962,\n",
       "        10.73999977,  10.72000027,  10.72000027,  11.        ,\n",
       "        10.72000027,  10.71000004,  10.69999981,  10.51000023,\n",
       "        10.5       ,  10.25      ,  10.        ,  10.        ,\n",
       "        10.30000019,  10.5       ,  10.5       ,  10.30000019,\n",
       "        10.35000038,  10.35000038,  10.80000019], dtype=float32)"
      ]
     },
     "execution_count": 95,
     "metadata": {},
     "output_type": "execute_result"
    }
   ],
   "source": [
    "trainY"
   ]
  },
  {
   "cell_type": "code",
   "execution_count": 14,
   "metadata": {},
   "outputs": [
    {
     "data": {
      "text/plain": [
       "(1492006, 4)"
      ]
     },
     "execution_count": 14,
     "metadata": {},
     "output_type": "execute_result"
    }
   ],
   "source": [
    "trainX.shape"
   ]
  },
  {
   "cell_type": "code",
   "execution_count": 15,
   "metadata": {},
   "outputs": [
    {
     "name": "stdout",
     "output_type": "stream",
     "text": [
      "Epoch 1/2\n",
      "277s - loss: 0.3975\n",
      "Epoch 2/2\n",
      "289s - loss: 0.1757\n"
     ]
    },
    {
     "data": {
      "text/plain": [
       "<keras.callbacks.History at 0x7f5b187832b0>"
      ]
     },
     "execution_count": 15,
     "metadata": {},
     "output_type": "execute_result"
    }
   ],
   "source": [
    "model = Sequential()\n",
    "model.add(Dense(12, input_dim=look_back+1, activation='relu'))\n",
    "model.add(Dense(1, activation='relu'))\n",
    "model.compile(loss='mean_squared_error', optimizer='adam')\n",
    "model.fit(trainX, trainY, epochs=2, batch_size=5, verbose=2)"
   ]
  },
  {
   "cell_type": "code",
   "execution_count": 16,
   "metadata": {},
   "outputs": [
    {
     "name": "stdout",
     "output_type": "stream",
     "text": [
      "Train Score: 0.18 MeanSquareError (0.42 RootMSE)\n",
      "Test Score: 0.07 MSE (0.27 RMSE)\n"
     ]
    }
   ],
   "source": [
    "trainScore = model.evaluate(trainX, trainY, verbose=0)\n",
    "print('Train Score: %.2f MeanSquareError (%.2f RootMSE)' % (trainScore, math.sqrt(trainScore)))\n",
    "testScore = model.evaluate(testX, testY, verbose=0)\n",
    "print('Test Score: %.2f MSE (%.2f RMSE)' % (testScore, math.sqrt(testScore)))"
   ]
  },
  {
   "cell_type": "code",
   "execution_count": 19,
   "metadata": {},
   "outputs": [
    {
     "data": {
      "image/png": "[encoded data removed]",
      "text/plain": [
       "<matplotlib.figure.Figure at 0x7f5b189d52e8>"
      ]
     },
     "metadata": {},
     "output_type": "display_data"
    }
   ],
   "source": [
    "trainPredict = model.predict(trainX)\n",
    "testPredict = model.predict(testX)\n",
    "\n",
    "# shift train predictions for plotting\n",
    "trainPredictPlot = np.empty_like(dataset)\n",
    "trainPredictPlot[:, :] = np.nan\n",
    "trainPredictPlot[look_back:len(trainPredict)+look_back, :] = trainPredict\n",
    "\n",
    "# shift test predictions for plotting\n",
    "testPredictPlot = np.empty_like(dataset)\n",
    "testPredictPlot[:, :] = np.nan\n",
    "testPredictPlot[len(trainPredict)+(look_back*2)+1:test_size-1, :] = testPredict\n",
    "\n",
    "# plot baseline and predictions\n",
    "plt.plot(trainY)\n",
    "plt.plot(testY)\n",
    "plt.plot(trainPredictPlot)\n",
    "plt.plot(testPredictPlot)\n",
    "plt.show()"
   ]
  },
  {
   "cell_type": "code",
   "execution_count": 118,
   "metadata": {},
   "outputs": [
    {
     "data": {
      "text/plain": [
       "(83,)"
      ]
     },
     "execution_count": 118,
     "metadata": {},
     "output_type": "execute_result"
    }
   ],
   "source": [
    "trainY.shape"
   ]
  },
  {
   "cell_type": "code",
   "execution_count": 20,
   "metadata": {},
   "outputs": [
    {
     "data": {
      "image/png": "[encoded data removed]",
      "text/plain": [
       "<matplotlib.figure.Figure at 0x7f5b12bca0b8>"
      ]
     },
     "metadata": {},
     "output_type": "display_data"
    }
   ],
   "source": [
    "# Lo que es\n",
    "plt.plot(trainY)\n",
    "plt.show()"
   ]
  },
  {
   "cell_type": "code",
   "execution_count": 21,
   "metadata": {},
   "outputs": [
    {
     "data": {
      "image/png": "[encoded data removed]",
      "text/plain": [
       "<matplotlib.figure.Figure at 0x7f5b18213470>"
      ]
     },
     "metadata": {},
     "output_type": "display_data"
    }
   ],
   "source": [
    "# Lo que el modelo predice `look_back` transacciones antes?\n",
    "plt.plot(trainPredictPlot)\n",
    "plt.show()"
   ]
  },
  {
   "cell_type": "code",
   "execution_count": 22,
   "metadata": {},
   "outputs": [
    {
     "data": {
      "image/png": "[encoded data removed]",
      "text/plain": [
       "<matplotlib.figure.Figure at 0x7f5b183455f8>"
      ]
     },
     "metadata": {},
     "output_type": "display_data"
    }
   ],
   "source": [
    "plt.plot(testY)\n",
    "plt.show()"
   ]
  },
  {
   "cell_type": "code",
   "execution_count": 23,
   "metadata": {},
   "outputs": [
    {
     "data": {
      "image/png": "[encoded data removed]",
      "text/plain": [
       "<matplotlib.figure.Figure at 0x7f5b186620f0>"
      ]
     },
     "metadata": {},
     "output_type": "display_data"
    }
   ],
   "source": [
    "plt.plot(testPredictPlot)\n",
    "plt.show()"
   ]
  },
  {
   "cell_type": "code",
   "execution_count": 24,
   "metadata": {},
   "outputs": [
    {
     "data": {
      "text/html": [
       "<div>\n",
       "<table border=\"1\" class=\"dataframe\">\n",
       "  <thead>\n",
       "    <tr style=\"text-align: right;\">\n",
       "      <th></th>\n",
       "      <th>time</th>\n",
       "      <th>price</th>\n",
       "      <th>amount</th>\n",
       "    </tr>\n",
       "  </thead>\n",
       "  <tbody>\n",
       "    <tr>\n",
       "      <th>29840197</th>\n",
       "      <td>1493298623</td>\n",
       "      <td>1287.993</td>\n",
       "      <td>0.060000</td>\n",
       "    </tr>\n",
       "    <tr>\n",
       "      <th>29840198</th>\n",
       "      <td>1493298623</td>\n",
       "      <td>1287.994</td>\n",
       "      <td>0.501309</td>\n",
       "    </tr>\n",
       "    <tr>\n",
       "      <th>29840199</th>\n",
       "      <td>1493298627</td>\n",
       "      <td>1287.994</td>\n",
       "      <td>0.496647</td>\n",
       "    </tr>\n",
       "    <tr>\n",
       "      <th>29840200</th>\n",
       "      <td>1493298633</td>\n",
       "      <td>1286.594</td>\n",
       "      <td>0.170893</td>\n",
       "    </tr>\n",
       "    <tr>\n",
       "      <th>29840201</th>\n",
       "      <td>1493298634</td>\n",
       "      <td>1286.594</td>\n",
       "      <td>0.179107</td>\n",
       "    </tr>\n",
       "  </tbody>\n",
       "</table>\n",
       "</div>"
      ],
      "text/plain": [
       "                time     price    amount\n",
       "29840197  1493298623  1287.993  0.060000\n",
       "29840198  1493298623  1287.994  0.501309\n",
       "29840199  1493298627  1287.994  0.496647\n",
       "29840200  1493298633  1286.594  0.170893\n",
       "29840201  1493298634  1286.594  0.179107"
      ]
     },
     "execution_count": 24,
     "metadata": {},
     "output_type": "execute_result"
    }
   ],
   "source": [
    "data.tail()"
   ]
  },
  {
   "cell_type": "code",
   "execution_count": 46,
   "metadata": {},
   "outputs": [
    {
     "name": "stdout",
     "output_type": "stream",
     "text": [
      "2984 596\n"
     ]
    }
   ],
   "source": [
    "train_size = int(len(dataset) * 0.0001)\n",
    "test_size = len(dataset)\n",
    "# test_size = len(dataset) - train_size\n",
    "test_size = int(1.2 * train_size)\n",
    "cross_size = 1000\n",
    "# train, test = dataset[0:train_size,:], dataset[train_size:len(dataset),:]\n",
    "train, test = dataset[0:train_size,:], dataset[train_size:test_size,:]\n",
    "cross = dataset[-cross_size:]\n",
    "print(len(train), len(test))"
   ]
  },
  {
   "cell_type": "code",
   "execution_count": 48,
   "metadata": {},
   "outputs": [
    {
     "data": {
      "text/plain": [
       "array([  1.49329869e+09,   1.28659399e+03,   1.79107070e-01], dtype=float32)"
      ]
     },
     "execution_count": 48,
     "metadata": {},
     "output_type": "execute_result"
    }
   ],
   "source": [
    "cross[-1]"
   ]
  },
  {
   "cell_type": "code",
   "execution_count": 37,
   "metadata": {},
   "outputs": [
    {
     "name": "stdout",
     "output_type": "stream",
     "text": [
      "Epoch 1/2\n",
      "1s - loss: 0.9167\n",
      "Epoch 2/2\n",
      "1s - loss: 0.1764\n",
      "Train Score: 0.07 MeanSquareError (0.26 RootMSE)\n",
      "Test Score: 0.08 MSE (0.27 RMSE)\n"
     ]
    }
   ],
   "source": [
    "look_back = 6\n",
    "trainX, trainY = create_dataset(train, look_back)\n",
    "testX, testY = create_dataset(test, look_back)\n",
    "\n",
    "model = Sequential()\n",
    "model.add(Dense(12, input_dim=look_back+1, activation='relu'))\n",
    "model.add(Dense(1, activation='relu'))\n",
    "model.compile(loss='mean_squared_error', optimizer='adam')\n",
    "model.fit(trainX, trainY, epochs=2, batch_size=2, verbose=2)\n",
    "\n",
    "trainScore = model.evaluate(trainX, trainY, verbose=0)\n",
    "print('Train Score: %.2f MeanSquareError (%.2f RootMSE)' % (trainScore, math.sqrt(trainScore)))\n",
    "testScore = model.evaluate(testX, testY, verbose=0)\n",
    "print('Test Score: %.2f MSE (%.2f RMSE)' % (testScore, math.sqrt(testScore)))"
   ]
  },
  {
   "cell_type": "code",
   "execution_count": 38,
   "metadata": {},
   "outputs": [
    {
     "data": {
      "image/png": "[encoded data removed]",
      "text/plain": [
       "<matplotlib.figure.Figure at 0x7f5b17de52e8>"
      ]
     },
     "metadata": {},
     "output_type": "display_data"
    }
   ],
   "source": [
    "trainPredict = model.predict(trainX)\n",
    "# testPredict = model.predict(testX)\n",
    "\n",
    "# shift train predictions for plotting\n",
    "trainPredictPlot = np.empty_like(dataset)\n",
    "trainPredictPlot[:, :] = np.nan\n",
    "trainPredictPlot[look_back:len(trainPredict)+look_back, :] = trainPredict\n",
    "\n",
    "# shift test predictions for plotting\n",
    "# testPredictPlot = np.empty_like(dataset)\n",
    "# testPredictPlot[:, :] = np.nan\n",
    "# testPredictPlot[len(trainPredict)+(look_back*2)+1:test_size-1, :] = testPredict\n",
    "\n",
    "# plot baseline and predictions\n",
    "plt.plot(trainY)\n",
    "# plt.plot(testY)\n",
    "plt.plot(trainPredictPlot)\n",
    "# plt.plot(testPredictPlot)\n",
    "plt.show()"
   ]
  },
  {
   "cell_type": "code",
   "execution_count": 44,
   "metadata": {},
   "outputs": [
    {
     "data": {
      "image/png": "[encoded data removed]",
      "text/plain": [
       "<matplotlib.figure.Figure at 0x7f5b179996d8>"
      ]
     },
     "metadata": {},
     "output_type": "display_data"
    }
   ],
   "source": [
    "plt.plot(trainPredictPlot[:30])\n",
    "plt.plot(trainY[:30])\n",
    "plt.show()"
   ]
  },
  {
   "cell_type": "code",
   "execution_count": 45,
   "metadata": {},
   "outputs": [
    {
     "data": {
      "image/png": "[encoded data removed]",
      "text/plain": [
       "<matplotlib.figure.Figure at 0x7f5b17818278>"
      ]
     },
     "metadata": {},
     "output_type": "display_data"
    }
   ],
   "source": [
    "plt.plot(trainPredictPlot[:30])\n",
    "plt.show()"
   ]
  },
  {
   "cell_type": "code",
   "execution_count": 49,
   "metadata": {},
   "outputs": [
    {
     "name": "stdout",
     "output_type": "stream",
     "text": [
      "cross Score: 4586.97 MSE (67.73 RMSE)\n"
     ]
    }
   ],
   "source": [
    "look_back = 6\n",
    "# trainX, trainY = create_dataset(train, look_back)\n",
    "crossX, crossY = create_dataset(cross, look_back)\n",
    "\n",
    "# model = Sequential()\n",
    "# model.add(Dense(12, input_dim=look_back+1, activation='relu'))\n",
    "# model.add(Dense(1, activation='relu'))\n",
    "# model.compile(loss='mean_squared_error', optimizer='adam')\n",
    "# model.fit(trainX, trainY, epochs=2, batch_size=2, verbose=2)\n",
    "\n",
    "# trainScore = model.evaluate(trainX, trainY, verbose=0)\n",
    "# print('Train Score: %.2f MeanSquareError (%.2f RootMSE)' % (trainScore, math.sqrt(trainScore)))\n",
    "crossScore = model.evaluate(crossX, crossY, verbose=0)\n",
    "print('cross Score: %.2f MSE (%.2f RMSE)' % (crossScore, math.sqrt(crossScore)))"
   ]
  },
  {
   "cell_type": "code",
   "execution_count": 61,
   "metadata": {},
   "outputs": [
    {
     "data": {
      "image/png": "[encoded data removed]",
      "text/plain": [
       "<matplotlib.figure.Figure at 0x7f5b17753358>"
      ]
     },
     "metadata": {},
     "output_type": "display_data"
    }
   ],
   "source": [
    "crossPredict = model.predict(crossX)\n",
    "# testPredict = model.predict(testX)\n",
    "\n",
    "# shift train predictions for plotting\n",
    "# crossPredictPlot = np.empty_like(dataset)\n",
    "# crossPredictPlot[:, :] = np.nan\n",
    "# crossPredict.shape 993\n",
    "# crossPredictPlot[-cross_size+look_back+1:, :] = crossPredict\n",
    "\n",
    "# shift test predictions for plotting\n",
    "# testPredictPlot = np.empty_like(dataset)\n",
    "# testPredictPlot[:, :] = np.nan\n",
    "# testPredictPlot[len(trainPredict)+(look_back*2)+1:test_size-1, :] = testPredict\n",
    "\n",
    "# plot baseline and predictions\n",
    "plt.plot(crossY[:100])\n",
    "# plt.plot(testY)\n",
    "plt.plot(crossPredict[:100])\n",
    "# plt.plot(testPredictPlot)\n",
    "plt.show()"
   ]
  },
  {
   "cell_type": "code",
   "execution_count": 62,
   "metadata": {},
   "outputs": [
    {
     "data": {
      "image/png": "[encoded data removed]",
      "text/plain": [
       "<matplotlib.figure.Figure at 0x7f5b1755f710>"
      ]
     },
     "metadata": {},
     "output_type": "display_data"
    }
   ],
   "source": [
    "plt.plot(crossY[:100])\n",
    "plt.show()"
   ]
  },
  {
   "cell_type": "code",
   "execution_count": 64,
   "metadata": {},
   "outputs": [
    {
     "data": {
      "text/html": [
       "<div>\n",
       "<table border=\"1\" class=\"dataframe\">\n",
       "  <thead>\n",
       "    <tr style=\"text-align: right;\">\n",
       "      <th></th>\n",
       "      <th>time</th>\n",
       "      <th>price</th>\n",
       "      <th>amount</th>\n",
       "    </tr>\n",
       "  </thead>\n",
       "  <tbody>\n",
       "    <tr>\n",
       "      <th>29840152</th>\n",
       "      <td>1493298602</td>\n",
       "      <td>1285.002</td>\n",
       "      <td>0.011124</td>\n",
       "    </tr>\n",
       "    <tr>\n",
       "      <th>29840153</th>\n",
       "      <td>1493298602</td>\n",
       "      <td>1285.000</td>\n",
       "      <td>0.796228</td>\n",
       "    </tr>\n",
       "    <tr>\n",
       "      <th>29840154</th>\n",
       "      <td>1493298603</td>\n",
       "      <td>1287.993</td>\n",
       "      <td>0.011000</td>\n",
       "    </tr>\n",
       "    <tr>\n",
       "      <th>29840155</th>\n",
       "      <td>1493298604</td>\n",
       "      <td>1287.993</td>\n",
       "      <td>0.052161</td>\n",
       "    </tr>\n",
       "    <tr>\n",
       "      <th>29840156</th>\n",
       "      <td>1493298608</td>\n",
       "      <td>1287.993</td>\n",
       "      <td>0.989911</td>\n",
       "    </tr>\n",
       "    <tr>\n",
       "      <th>29840157</th>\n",
       "      <td>1493298608</td>\n",
       "      <td>1287.993</td>\n",
       "      <td>0.003969</td>\n",
       "    </tr>\n",
       "    <tr>\n",
       "      <th>29840158</th>\n",
       "      <td>1493298608</td>\n",
       "      <td>1287.994</td>\n",
       "      <td>0.259383</td>\n",
       "    </tr>\n",
       "    <tr>\n",
       "      <th>29840159</th>\n",
       "      <td>1493298608</td>\n",
       "      <td>1287.994</td>\n",
       "      <td>0.101590</td>\n",
       "    </tr>\n",
       "    <tr>\n",
       "      <th>29840160</th>\n",
       "      <td>1493298608</td>\n",
       "      <td>1287.994</td>\n",
       "      <td>0.015439</td>\n",
       "    </tr>\n",
       "    <tr>\n",
       "      <th>29840161</th>\n",
       "      <td>1493298608</td>\n",
       "      <td>1287.994</td>\n",
       "      <td>0.310345</td>\n",
       "    </tr>\n",
       "    <tr>\n",
       "      <th>29840162</th>\n",
       "      <td>1493298608</td>\n",
       "      <td>1287.994</td>\n",
       "      <td>0.706775</td>\n",
       "    </tr>\n",
       "    <tr>\n",
       "      <th>29840163</th>\n",
       "      <td>1493298609</td>\n",
       "      <td>1287.994</td>\n",
       "      <td>0.103522</td>\n",
       "    </tr>\n",
       "    <tr>\n",
       "      <th>29840164</th>\n",
       "      <td>1493298609</td>\n",
       "      <td>1287.994</td>\n",
       "      <td>0.013197</td>\n",
       "    </tr>\n",
       "    <tr>\n",
       "      <th>29840165</th>\n",
       "      <td>1493298610</td>\n",
       "      <td>1287.994</td>\n",
       "      <td>0.101378</td>\n",
       "    </tr>\n",
       "    <tr>\n",
       "      <th>29840166</th>\n",
       "      <td>1493298610</td>\n",
       "      <td>1287.994</td>\n",
       "      <td>0.033174</td>\n",
       "    </tr>\n",
       "    <tr>\n",
       "      <th>29840167</th>\n",
       "      <td>1493298611</td>\n",
       "      <td>1287.993</td>\n",
       "      <td>0.009844</td>\n",
       "    </tr>\n",
       "    <tr>\n",
       "      <th>29840168</th>\n",
       "      <td>1493298612</td>\n",
       "      <td>1287.993</td>\n",
       "      <td>0.020000</td>\n",
       "    </tr>\n",
       "    <tr>\n",
       "      <th>29840169</th>\n",
       "      <td>1493298612</td>\n",
       "      <td>1287.993</td>\n",
       "      <td>0.010000</td>\n",
       "    </tr>\n",
       "    <tr>\n",
       "      <th>29840170</th>\n",
       "      <td>1493298612</td>\n",
       "      <td>1287.993</td>\n",
       "      <td>0.010000</td>\n",
       "    </tr>\n",
       "    <tr>\n",
       "      <th>29840171</th>\n",
       "      <td>1493298612</td>\n",
       "      <td>1287.993</td>\n",
       "      <td>0.010000</td>\n",
       "    </tr>\n",
       "    <tr>\n",
       "      <th>29840172</th>\n",
       "      <td>1493298612</td>\n",
       "      <td>1287.993</td>\n",
       "      <td>0.005526</td>\n",
       "    </tr>\n",
       "    <tr>\n",
       "      <th>29840173</th>\n",
       "      <td>1493298612</td>\n",
       "      <td>1285.500</td>\n",
       "      <td>0.010000</td>\n",
       "    </tr>\n",
       "    <tr>\n",
       "      <th>29840174</th>\n",
       "      <td>1493298612</td>\n",
       "      <td>1287.070</td>\n",
       "      <td>0.004474</td>\n",
       "    </tr>\n",
       "    <tr>\n",
       "      <th>29840175</th>\n",
       "      <td>1493298612</td>\n",
       "      <td>1287.994</td>\n",
       "      <td>0.893671</td>\n",
       "    </tr>\n",
       "    <tr>\n",
       "      <th>29840176</th>\n",
       "      <td>1493298612</td>\n",
       "      <td>1287.994</td>\n",
       "      <td>0.135793</td>\n",
       "    </tr>\n",
       "    <tr>\n",
       "      <th>29840177</th>\n",
       "      <td>1493298612</td>\n",
       "      <td>1287.050</td>\n",
       "      <td>0.010000</td>\n",
       "    </tr>\n",
       "    <tr>\n",
       "      <th>29840178</th>\n",
       "      <td>1493298612</td>\n",
       "      <td>1287.994</td>\n",
       "      <td>0.037998</td>\n",
       "    </tr>\n",
       "    <tr>\n",
       "      <th>29840179</th>\n",
       "      <td>1493298612</td>\n",
       "      <td>1287.994</td>\n",
       "      <td>0.011650</td>\n",
       "    </tr>\n",
       "    <tr>\n",
       "      <th>29840180</th>\n",
       "      <td>1493298613</td>\n",
       "      <td>1285.500</td>\n",
       "      <td>0.010000</td>\n",
       "    </tr>\n",
       "    <tr>\n",
       "      <th>29840181</th>\n",
       "      <td>1493298613</td>\n",
       "      <td>1286.500</td>\n",
       "      <td>0.010000</td>\n",
       "    </tr>\n",
       "    <tr>\n",
       "      <th>29840182</th>\n",
       "      <td>1493298613</td>\n",
       "      <td>1287.838</td>\n",
       "      <td>0.080000</td>\n",
       "    </tr>\n",
       "    <tr>\n",
       "      <th>29840183</th>\n",
       "      <td>1493298613</td>\n",
       "      <td>1287.994</td>\n",
       "      <td>1.250000</td>\n",
       "    </tr>\n",
       "    <tr>\n",
       "      <th>29840184</th>\n",
       "      <td>1493298613</td>\n",
       "      <td>1287.050</td>\n",
       "      <td>0.010000</td>\n",
       "    </tr>\n",
       "    <tr>\n",
       "      <th>29840185</th>\n",
       "      <td>1493298613</td>\n",
       "      <td>1287.202</td>\n",
       "      <td>0.010000</td>\n",
       "    </tr>\n",
       "    <tr>\n",
       "      <th>29840186</th>\n",
       "      <td>1493298613</td>\n",
       "      <td>1287.994</td>\n",
       "      <td>0.122655</td>\n",
       "    </tr>\n",
       "    <tr>\n",
       "      <th>29840187</th>\n",
       "      <td>1493298613</td>\n",
       "      <td>1287.543</td>\n",
       "      <td>0.010000</td>\n",
       "    </tr>\n",
       "    <tr>\n",
       "      <th>29840188</th>\n",
       "      <td>1493298613</td>\n",
       "      <td>1287.543</td>\n",
       "      <td>0.010000</td>\n",
       "    </tr>\n",
       "    <tr>\n",
       "      <th>29840189</th>\n",
       "      <td>1493298614</td>\n",
       "      <td>1287.543</td>\n",
       "      <td>0.010000</td>\n",
       "    </tr>\n",
       "    <tr>\n",
       "      <th>29840190</th>\n",
       "      <td>1493298614</td>\n",
       "      <td>1287.543</td>\n",
       "      <td>0.010000</td>\n",
       "    </tr>\n",
       "    <tr>\n",
       "      <th>29840191</th>\n",
       "      <td>1493298618</td>\n",
       "      <td>1287.994</td>\n",
       "      <td>1.179321</td>\n",
       "    </tr>\n",
       "    <tr>\n",
       "      <th>29840192</th>\n",
       "      <td>1493298618</td>\n",
       "      <td>1287.994</td>\n",
       "      <td>0.009293</td>\n",
       "    </tr>\n",
       "    <tr>\n",
       "      <th>29840193</th>\n",
       "      <td>1493298619</td>\n",
       "      <td>1287.994</td>\n",
       "      <td>0.004025</td>\n",
       "    </tr>\n",
       "    <tr>\n",
       "      <th>29840194</th>\n",
       "      <td>1493298619</td>\n",
       "      <td>1287.994</td>\n",
       "      <td>0.051967</td>\n",
       "    </tr>\n",
       "    <tr>\n",
       "      <th>29840195</th>\n",
       "      <td>1493298619</td>\n",
       "      <td>1287.994</td>\n",
       "      <td>0.025978</td>\n",
       "    </tr>\n",
       "    <tr>\n",
       "      <th>29840196</th>\n",
       "      <td>1493298619</td>\n",
       "      <td>1287.994</td>\n",
       "      <td>0.096895</td>\n",
       "    </tr>\n",
       "    <tr>\n",
       "      <th>29840197</th>\n",
       "      <td>1493298623</td>\n",
       "      <td>1287.993</td>\n",
       "      <td>0.060000</td>\n",
       "    </tr>\n",
       "    <tr>\n",
       "      <th>29840198</th>\n",
       "      <td>1493298623</td>\n",
       "      <td>1287.994</td>\n",
       "      <td>0.501309</td>\n",
       "    </tr>\n",
       "    <tr>\n",
       "      <th>29840199</th>\n",
       "      <td>1493298627</td>\n",
       "      <td>1287.994</td>\n",
       "      <td>0.496647</td>\n",
       "    </tr>\n",
       "    <tr>\n",
       "      <th>29840200</th>\n",
       "      <td>1493298633</td>\n",
       "      <td>1286.594</td>\n",
       "      <td>0.170893</td>\n",
       "    </tr>\n",
       "    <tr>\n",
       "      <th>29840201</th>\n",
       "      <td>1493298634</td>\n",
       "      <td>1286.594</td>\n",
       "      <td>0.179107</td>\n",
       "    </tr>\n",
       "  </tbody>\n",
       "</table>\n",
       "</div>"
      ],
      "text/plain": [
       "                time     price    amount\n",
       "29840152  1493298602  1285.002  0.011124\n",
       "29840153  1493298602  1285.000  0.796228\n",
       "29840154  1493298603  1287.993  0.011000\n",
       "29840155  1493298604  1287.993  0.052161\n",
       "29840156  1493298608  1287.993  0.989911\n",
       "29840157  1493298608  1287.993  0.003969\n",
       "29840158  1493298608  1287.994  0.259383\n",
       "29840159  1493298608  1287.994  0.101590\n",
       "29840160  1493298608  1287.994  0.015439\n",
       "29840161  1493298608  1287.994  0.310345\n",
       "29840162  1493298608  1287.994  0.706775\n",
       "29840163  1493298609  1287.994  0.103522\n",
       "29840164  1493298609  1287.994  0.013197\n",
       "29840165  1493298610  1287.994  0.101378\n",
       "29840166  1493298610  1287.994  0.033174\n",
       "29840167  1493298611  1287.993  0.009844\n",
       "29840168  1493298612  1287.993  0.020000\n",
       "29840169  1493298612  1287.993  0.010000\n",
       "29840170  1493298612  1287.993  0.010000\n",
       "29840171  1493298612  1287.993  0.010000\n",
       "29840172  1493298612  1287.993  0.005526\n",
       "29840173  1493298612  1285.500  0.010000\n",
       "29840174  1493298612  1287.070  0.004474\n",
       "29840175  1493298612  1287.994  0.893671\n",
       "29840176  1493298612  1287.994  0.135793\n",
       "29840177  1493298612  1287.050  0.010000\n",
       "29840178  1493298612  1287.994  0.037998\n",
       "29840179  1493298612  1287.994  0.011650\n",
       "29840180  1493298613  1285.500  0.010000\n",
       "29840181  1493298613  1286.500  0.010000\n",
       "29840182  1493298613  1287.838  0.080000\n",
       "29840183  1493298613  1287.994  1.250000\n",
       "29840184  1493298613  1287.050  0.010000\n",
       "29840185  1493298613  1287.202  0.010000\n",
       "29840186  1493298613  1287.994  0.122655\n",
       "29840187  1493298613  1287.543  0.010000\n",
       "29840188  1493298613  1287.543  0.010000\n",
       "29840189  1493298614  1287.543  0.010000\n",
       "29840190  1493298614  1287.543  0.010000\n",
       "29840191  1493298618  1287.994  1.179321\n",
       "29840192  1493298618  1287.994  0.009293\n",
       "29840193  1493298619  1287.994  0.004025\n",
       "29840194  1493298619  1287.994  0.051967\n",
       "29840195  1493298619  1287.994  0.025978\n",
       "29840196  1493298619  1287.994  0.096895\n",
       "29840197  1493298623  1287.993  0.060000\n",
       "29840198  1493298623  1287.994  0.501309\n",
       "29840199  1493298627  1287.994  0.496647\n",
       "29840200  1493298633  1286.594  0.170893\n",
       "29840201  1493298634  1286.594  0.179107"
      ]
     },
     "execution_count": 64,
     "metadata": {},
     "output_type": "execute_result"
    }
   ],
   "source": [
    "data.tail(50)"
   ]
  },
  {
   "cell_type": "code",
   "execution_count": 69,
   "metadata": {},
   "outputs": [
    {
     "name": "stdout",
     "output_type": "stream",
     "text": [
      "[[ 1218.40759277]] 1287.202\n"
     ]
    }
   ],
   "source": [
    "past = [ 1287.994, 1285.500, 1286.500, 1287.838, 1287.994, 1287.050]\n",
    "volume = sum([ 0.011650, 0.010000, 0.010000, 0.080000, 1.250000, 0.010000])\n",
    "past.append(volume)\n",
    "x = np.array(past)\n",
    "y = model.predict(x.reshape(1,7), batch_size=1)\n",
    "print(y, '1287.202')"
   ]
  }
 ],
 "metadata": {
  "kernelspec": {
   "display_name": "Python 3",
   "language": "python",
   "name": "python3"
  },
  "language_info": {
   "codemirror_mode": {
    "name": "ipython",
    "version": 3
   },
   "file_extension": ".py",
   "mimetype": "text/x-python",
   "name": "python",
   "nbconvert_exporter": "python",
   "pygments_lexer": "ipython3",
   "version": "3.5.2"
  }
 },
 "nbformat": 4,
 "nbformat_minor": 2
}
